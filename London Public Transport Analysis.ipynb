{
 "cells": [
  {
   "cell_type": "markdown",
   "metadata": {},
   "source": [
    "# Predicting and Traffic of Congestion Charge Zone in Greater London Area based on Public Transport Journeys\n",
    "\n",
    "The purpose of this research is to determine if the Public Transport Journey Types can affect the Number of Confirmed Vehicles during Charging Hours in The Congestion Charge Zone.\n",
    "Multiple Machine Learning Models will be trained on 2 datasets, namely the **Public Transport Journeys by Type of Transport** and **Vehicles Entering C-Charge Zone in Greater London Area** provided by _Transport for London (TfL)_ from London Datastore.\n",
    "\n",
    "Hypothesis: The Public Transport Journey Types can predict the Number of Confirmed Vehicles during Charging Hours in The Congestion Charge Zone.\n",
    "\n",
    "This research will follow the KDD process of Machine Learning as follows:\n",
    "1. Data Cleaning\n",
    "2. Data Integration\n",
    "3. Data Selection\n",
    "4. Data Transformation\n",
    "5. Data Mining\n",
    "6. Pattern Evaluation\n",
    "7. Knowledge Presentation\n",
    "\n",
    "github: https://github.com/mtu-adhl/MTU-Data-Analytics-Final-CA"
   ]
  },
  {
   "cell_type": "markdown",
   "metadata": {},
   "source": [
    "# Datasets"
   ]
  },
  {
   "cell_type": "markdown",
   "metadata": {},
   "source": [
    "## Public Transport Journeys Type\n",
    "source: https://data.london.gov.uk/dataset/public-transport-journeys-type-transport"
   ]
  },
  {
   "cell_type": "code",
   "execution_count": 275,
   "metadata": {},
   "outputs": [
    {
     "data": {
      "text/html": [
       "<div>\n",
       "<style scoped>\n",
       "    .dataframe tbody tr th:only-of-type {\n",
       "        vertical-align: middle;\n",
       "    }\n",
       "\n",
       "    .dataframe tbody tr th {\n",
       "        vertical-align: top;\n",
       "    }\n",
       "\n",
       "    .dataframe thead th {\n",
       "        text-align: right;\n",
       "    }\n",
       "</style>\n",
       "<table border=\"1\" class=\"dataframe\">\n",
       "  <thead>\n",
       "    <tr style=\"text-align: right;\">\n",
       "      <th></th>\n",
       "      <th>Period and Financial year</th>\n",
       "      <th>Reporting Period</th>\n",
       "      <th>Days in period</th>\n",
       "      <th>Period beginning</th>\n",
       "      <th>Period ending</th>\n",
       "      <th>Bus journeys (m)</th>\n",
       "      <th>Underground journeys (m)</th>\n",
       "      <th>DLR Journeys (m)</th>\n",
       "      <th>Tram Journeys (m)</th>\n",
       "      <th>Overground Journeys (m)</th>\n",
       "      <th>London Cable Car Journeys (m)</th>\n",
       "      <th>TfL Rail Journeys (m)</th>\n",
       "    </tr>\n",
       "  </thead>\n",
       "  <tbody>\n",
       "    <tr>\n",
       "      <th>0</th>\n",
       "      <td>01_10/11</td>\n",
       "      <td>1</td>\n",
       "      <td>31</td>\n",
       "      <td>01-Apr-10</td>\n",
       "      <td>01-May-10</td>\n",
       "      <td>189.1</td>\n",
       "      <td>90.5</td>\n",
       "      <td>6.3</td>\n",
       "      <td>2.3</td>\n",
       "      <td>NaN</td>\n",
       "      <td>NaN</td>\n",
       "      <td>NaN</td>\n",
       "    </tr>\n",
       "    <tr>\n",
       "      <th>1</th>\n",
       "      <td>02_10/11</td>\n",
       "      <td>2</td>\n",
       "      <td>28</td>\n",
       "      <td>02-May-10</td>\n",
       "      <td>29-May-10</td>\n",
       "      <td>181.6</td>\n",
       "      <td>84.5</td>\n",
       "      <td>5.8</td>\n",
       "      <td>2.2</td>\n",
       "      <td>NaN</td>\n",
       "      <td>NaN</td>\n",
       "      <td>NaN</td>\n",
       "    </tr>\n",
       "    <tr>\n",
       "      <th>2</th>\n",
       "      <td>03_10/11</td>\n",
       "      <td>3</td>\n",
       "      <td>28</td>\n",
       "      <td>30-May-10</td>\n",
       "      <td>26-Jun-10</td>\n",
       "      <td>175.9</td>\n",
       "      <td>84.3</td>\n",
       "      <td>5.8</td>\n",
       "      <td>2.1</td>\n",
       "      <td>NaN</td>\n",
       "      <td>NaN</td>\n",
       "      <td>NaN</td>\n",
       "    </tr>\n",
       "    <tr>\n",
       "      <th>3</th>\n",
       "      <td>04_10/11</td>\n",
       "      <td>4</td>\n",
       "      <td>28</td>\n",
       "      <td>27-Jun-10</td>\n",
       "      <td>24-Jul-10</td>\n",
       "      <td>183.4</td>\n",
       "      <td>86.5</td>\n",
       "      <td>6.1</td>\n",
       "      <td>2.1</td>\n",
       "      <td>NaN</td>\n",
       "      <td>NaN</td>\n",
       "      <td>NaN</td>\n",
       "    </tr>\n",
       "    <tr>\n",
       "      <th>4</th>\n",
       "      <td>05_10/11</td>\n",
       "      <td>5</td>\n",
       "      <td>28</td>\n",
       "      <td>25-Jul-10</td>\n",
       "      <td>21-Aug-10</td>\n",
       "      <td>160.4</td>\n",
       "      <td>82.9</td>\n",
       "      <td>5.8</td>\n",
       "      <td>2.0</td>\n",
       "      <td>NaN</td>\n",
       "      <td>NaN</td>\n",
       "      <td>NaN</td>\n",
       "    </tr>\n",
       "  </tbody>\n",
       "</table>\n",
       "</div>"
      ],
      "text/plain": [
       "  Period and Financial year  Reporting Period  Days in period  \\\n",
       "0                  01_10/11                 1              31   \n",
       "1                  02_10/11                 2              28   \n",
       "2                  03_10/11                 3              28   \n",
       "3                  04_10/11                 4              28   \n",
       "4                  05_10/11                 5              28   \n",
       "\n",
       "  Period beginning Period ending  Bus journeys (m)  Underground journeys (m)  \\\n",
       "0        01-Apr-10     01-May-10             189.1                      90.5   \n",
       "1        02-May-10     29-May-10             181.6                      84.5   \n",
       "2        30-May-10     26-Jun-10             175.9                      84.3   \n",
       "3        27-Jun-10     24-Jul-10             183.4                      86.5   \n",
       "4        25-Jul-10     21-Aug-10             160.4                      82.9   \n",
       "\n",
       "   DLR Journeys (m)  Tram Journeys (m)  Overground Journeys (m)  \\\n",
       "0               6.3                2.3                      NaN   \n",
       "1               5.8                2.2                      NaN   \n",
       "2               5.8                2.1                      NaN   \n",
       "3               6.1                2.1                      NaN   \n",
       "4               5.8                2.0                      NaN   \n",
       "\n",
       "   London Cable Car Journeys (m)  TfL Rail Journeys (m)  \n",
       "0                            NaN                    NaN  \n",
       "1                            NaN                    NaN  \n",
       "2                            NaN                    NaN  \n",
       "3                            NaN                    NaN  \n",
       "4                            NaN                    NaN  "
      ]
     },
     "execution_count": 275,
     "metadata": {},
     "output_type": "execute_result"
    }
   ],
   "source": [
    "import pandas as pd\n",
    "publicTransport = pd.read_csv(\"tfl-journeys-type.csv\")\n",
    "publicTransport.head()\n"
   ]
  },
  {
   "cell_type": "markdown",
   "metadata": {},
   "source": [
    "## Vehicles Entering C-Charge Zone in Greater London Area\n",
    "source :https://data.london.gov.uk/dataset/vehicles-entering-c-charge-zone-month"
   ]
  },
  {
   "cell_type": "code",
   "execution_count": 276,
   "metadata": {},
   "outputs": [
    {
     "data": {
      "text/html": [
       "<div>\n",
       "<style scoped>\n",
       "    .dataframe tbody tr th:only-of-type {\n",
       "        vertical-align: middle;\n",
       "    }\n",
       "\n",
       "    .dataframe tbody tr th {\n",
       "        vertical-align: top;\n",
       "    }\n",
       "\n",
       "    .dataframe thead th {\n",
       "        text-align: right;\n",
       "    }\n",
       "</style>\n",
       "<table border=\"1\" class=\"dataframe\">\n",
       "  <thead>\n",
       "    <tr style=\"text-align: right;\">\n",
       "      <th></th>\n",
       "      <th>Month</th>\n",
       "      <th>CC Camera Captures during Charging Hours</th>\n",
       "      <th>CC Confirmed Vehicles observed during Charging Hours</th>\n",
       "      <th>Number of Charging Day in Month</th>\n",
       "      <th>Notes</th>\n",
       "    </tr>\n",
       "  </thead>\n",
       "  <tbody>\n",
       "    <tr>\n",
       "      <th>0</th>\n",
       "      <td>Jul-10</td>\n",
       "      <td>5615063</td>\n",
       "      <td>NaN</td>\n",
       "      <td>22</td>\n",
       "      <td>NaN</td>\n",
       "    </tr>\n",
       "    <tr>\n",
       "      <th>1</th>\n",
       "      <td>Aug-10</td>\n",
       "      <td>5174428</td>\n",
       "      <td>NaN</td>\n",
       "      <td>21</td>\n",
       "      <td>30 Aug Non Charging Day</td>\n",
       "    </tr>\n",
       "    <tr>\n",
       "      <th>2</th>\n",
       "      <td>Sep-10</td>\n",
       "      <td>6198427</td>\n",
       "      <td>NaN</td>\n",
       "      <td>22</td>\n",
       "      <td>NaN</td>\n",
       "    </tr>\n",
       "    <tr>\n",
       "      <th>3</th>\n",
       "      <td>Oct-10</td>\n",
       "      <td>6001932</td>\n",
       "      <td>NaN</td>\n",
       "      <td>21</td>\n",
       "      <td>NaN</td>\n",
       "    </tr>\n",
       "    <tr>\n",
       "      <th>4</th>\n",
       "      <td>Nov-10</td>\n",
       "      <td>6430184</td>\n",
       "      <td>NaN</td>\n",
       "      <td>22</td>\n",
       "      <td>NaN</td>\n",
       "    </tr>\n",
       "  </tbody>\n",
       "</table>\n",
       "</div>"
      ],
      "text/plain": [
       "    Month  CC Camera Captures during Charging Hours  \\\n",
       "0  Jul-10                                   5615063   \n",
       "1  Aug-10                                   5174428   \n",
       "2  Sep-10                                   6198427   \n",
       "3  Oct-10                                   6001932   \n",
       "4  Nov-10                                   6430184   \n",
       "\n",
       "   CC Confirmed Vehicles observed during Charging Hours  \\\n",
       "0                                                NaN      \n",
       "1                                                NaN      \n",
       "2                                                NaN      \n",
       "3                                                NaN      \n",
       "4                                                NaN      \n",
       "\n",
       "   Number of Charging Day in Month                    Notes  \n",
       "0                               22                      NaN  \n",
       "1                               21  30 Aug Non Charging Day  \n",
       "2                               22                      NaN  \n",
       "3                               21                      NaN  \n",
       "4                               22                      NaN  "
      ]
     },
     "execution_count": 276,
     "metadata": {},
     "output_type": "execute_result"
    }
   ],
   "source": [
    "import pandas as pd\n",
    "traffic = pd.read_csv('tfl-vehicles-c-charge-zone.csv')\n",
    "traffic.head()"
   ]
  },
  {
   "cell_type": "markdown",
   "metadata": {},
   "source": [
    "# Data Cleaning\n",
    "\n",
    "Data Cleaning is performed to filter unwanted data, handling missing data, and prepare the data for traininng ML models."
   ]
  },
  {
   "cell_type": "markdown",
   "metadata": {},
   "source": [
    "1. NaN values are filled in with 0 as appropriate to context."
   ]
  },
  {
   "cell_type": "code",
   "execution_count": 277,
   "metadata": {},
   "outputs": [
    {
     "data": {
      "text/html": [
       "<div>\n",
       "<style scoped>\n",
       "    .dataframe tbody tr th:only-of-type {\n",
       "        vertical-align: middle;\n",
       "    }\n",
       "\n",
       "    .dataframe tbody tr th {\n",
       "        vertical-align: top;\n",
       "    }\n",
       "\n",
       "    .dataframe thead th {\n",
       "        text-align: right;\n",
       "    }\n",
       "</style>\n",
       "<table border=\"1\" class=\"dataframe\">\n",
       "  <thead>\n",
       "    <tr style=\"text-align: right;\">\n",
       "      <th></th>\n",
       "      <th>Period and Financial year</th>\n",
       "      <th>Reporting Period</th>\n",
       "      <th>Days in period</th>\n",
       "      <th>Period beginning</th>\n",
       "      <th>Period ending</th>\n",
       "      <th>Bus journeys (m)</th>\n",
       "      <th>Underground journeys (m)</th>\n",
       "      <th>DLR Journeys (m)</th>\n",
       "      <th>Tram Journeys (m)</th>\n",
       "      <th>Overground Journeys (m)</th>\n",
       "      <th>London Cable Car Journeys (m)</th>\n",
       "      <th>TfL Rail Journeys (m)</th>\n",
       "    </tr>\n",
       "  </thead>\n",
       "  <tbody>\n",
       "    <tr>\n",
       "      <th>0</th>\n",
       "      <td>01_10/11</td>\n",
       "      <td>1</td>\n",
       "      <td>31</td>\n",
       "      <td>01-Apr-10</td>\n",
       "      <td>01-May-10</td>\n",
       "      <td>189.1</td>\n",
       "      <td>90.5</td>\n",
       "      <td>6.3</td>\n",
       "      <td>2.3</td>\n",
       "      <td>0.0</td>\n",
       "      <td>0.0</td>\n",
       "      <td>0.0</td>\n",
       "    </tr>\n",
       "    <tr>\n",
       "      <th>1</th>\n",
       "      <td>02_10/11</td>\n",
       "      <td>2</td>\n",
       "      <td>28</td>\n",
       "      <td>02-May-10</td>\n",
       "      <td>29-May-10</td>\n",
       "      <td>181.6</td>\n",
       "      <td>84.5</td>\n",
       "      <td>5.8</td>\n",
       "      <td>2.2</td>\n",
       "      <td>0.0</td>\n",
       "      <td>0.0</td>\n",
       "      <td>0.0</td>\n",
       "    </tr>\n",
       "    <tr>\n",
       "      <th>2</th>\n",
       "      <td>03_10/11</td>\n",
       "      <td>3</td>\n",
       "      <td>28</td>\n",
       "      <td>30-May-10</td>\n",
       "      <td>26-Jun-10</td>\n",
       "      <td>175.9</td>\n",
       "      <td>84.3</td>\n",
       "      <td>5.8</td>\n",
       "      <td>2.1</td>\n",
       "      <td>0.0</td>\n",
       "      <td>0.0</td>\n",
       "      <td>0.0</td>\n",
       "    </tr>\n",
       "    <tr>\n",
       "      <th>3</th>\n",
       "      <td>04_10/11</td>\n",
       "      <td>4</td>\n",
       "      <td>28</td>\n",
       "      <td>27-Jun-10</td>\n",
       "      <td>24-Jul-10</td>\n",
       "      <td>183.4</td>\n",
       "      <td>86.5</td>\n",
       "      <td>6.1</td>\n",
       "      <td>2.1</td>\n",
       "      <td>0.0</td>\n",
       "      <td>0.0</td>\n",
       "      <td>0.0</td>\n",
       "    </tr>\n",
       "    <tr>\n",
       "      <th>4</th>\n",
       "      <td>05_10/11</td>\n",
       "      <td>5</td>\n",
       "      <td>28</td>\n",
       "      <td>25-Jul-10</td>\n",
       "      <td>21-Aug-10</td>\n",
       "      <td>160.4</td>\n",
       "      <td>82.9</td>\n",
       "      <td>5.8</td>\n",
       "      <td>2.0</td>\n",
       "      <td>0.0</td>\n",
       "      <td>0.0</td>\n",
       "      <td>0.0</td>\n",
       "    </tr>\n",
       "  </tbody>\n",
       "</table>\n",
       "</div>"
      ],
      "text/plain": [
       "  Period and Financial year  Reporting Period  Days in period  \\\n",
       "0                  01_10/11                 1              31   \n",
       "1                  02_10/11                 2              28   \n",
       "2                  03_10/11                 3              28   \n",
       "3                  04_10/11                 4              28   \n",
       "4                  05_10/11                 5              28   \n",
       "\n",
       "  Period beginning Period ending  Bus journeys (m)  Underground journeys (m)  \\\n",
       "0        01-Apr-10     01-May-10             189.1                      90.5   \n",
       "1        02-May-10     29-May-10             181.6                      84.5   \n",
       "2        30-May-10     26-Jun-10             175.9                      84.3   \n",
       "3        27-Jun-10     24-Jul-10             183.4                      86.5   \n",
       "4        25-Jul-10     21-Aug-10             160.4                      82.9   \n",
       "\n",
       "   DLR Journeys (m)  Tram Journeys (m)  Overground Journeys (m)  \\\n",
       "0               6.3                2.3                      0.0   \n",
       "1               5.8                2.2                      0.0   \n",
       "2               5.8                2.1                      0.0   \n",
       "3               6.1                2.1                      0.0   \n",
       "4               5.8                2.0                      0.0   \n",
       "\n",
       "   London Cable Car Journeys (m)  TfL Rail Journeys (m)  \n",
       "0                            0.0                    0.0  \n",
       "1                            0.0                    0.0  \n",
       "2                            0.0                    0.0  \n",
       "3                            0.0                    0.0  \n",
       "4                            0.0                    0.0  "
      ]
     },
     "execution_count": 277,
     "metadata": {},
     "output_type": "execute_result"
    }
   ],
   "source": [
    "publicTransport = publicTransport.fillna(0)\n",
    "publicTransport.head()"
   ]
  },
  {
   "cell_type": "markdown",
   "metadata": {},
   "source": [
    "2. A new dataframe with desired format is created to refactor data based on month as the original dataset is based on reporting periods."
   ]
  },
  {
   "cell_type": "code",
   "execution_count": 278,
   "metadata": {},
   "outputs": [
    {
     "data": {
      "text/html": [
       "<div>\n",
       "<style scoped>\n",
       "    .dataframe tbody tr th:only-of-type {\n",
       "        vertical-align: middle;\n",
       "    }\n",
       "\n",
       "    .dataframe tbody tr th {\n",
       "        vertical-align: top;\n",
       "    }\n",
       "\n",
       "    .dataframe thead th {\n",
       "        text-align: right;\n",
       "    }\n",
       "</style>\n",
       "<table border=\"1\" class=\"dataframe\">\n",
       "  <thead>\n",
       "    <tr style=\"text-align: right;\">\n",
       "      <th></th>\n",
       "      <th>Month</th>\n",
       "      <th>Bus journeys (m)</th>\n",
       "      <th>Underground journeys (m)</th>\n",
       "      <th>DLR Journeys (m)</th>\n",
       "      <th>Tram Journeys (m)</th>\n",
       "      <th>Overground Journeys (m)</th>\n",
       "      <th>London Cable Car Journeys (m)</th>\n",
       "      <th>TfL Rail Journeys (m)</th>\n",
       "    </tr>\n",
       "  </thead>\n",
       "  <tbody>\n",
       "  </tbody>\n",
       "</table>\n",
       "</div>"
      ],
      "text/plain": [
       "Empty DataFrame\n",
       "Columns: [Month, Bus journeys (m), Underground journeys (m), DLR Journeys (m), Tram Journeys (m), Overground Journeys (m), London Cable Car Journeys (m), TfL Rail Journeys (m)]\n",
       "Index: []"
      ]
     },
     "execution_count": 278,
     "metadata": {},
     "output_type": "execute_result"
    }
   ],
   "source": [
    "tflJourneys = pd.DataFrame(columns=['Month', 'Bus journeys (m)','Underground journeys (m)','DLR Journeys (m)','Tram Journeys (m)','Overground Journeys (m)','London Cable Car Journeys (m)','TfL Rail Journeys (m)'])\n",
    "tflJourneys.head()"
   ]
  },
  {
   "cell_type": "markdown",
   "metadata": {},
   "source": [
    "3. A simple algorithm which takes the average of reporting periods which span beyond a month."
   ]
  },
  {
   "cell_type": "code",
   "execution_count": 279,
   "metadata": {},
   "outputs": [],
   "source": [
    "\n",
    "for index, row in publicTransport.iterrows():\n",
    "    if(row['Period beginning'][3:6] != row['Period ending'][3:6]) :\n",
    "        if(row['Period ending'][3:6] == publicTransport.iloc[min(index+1, len(publicTransport)-1)]['Period beginning'][3:6]):\n",
    "            bus = (row['Bus journeys (m)'] + publicTransport.iloc[min(index+1, len(publicTransport)-1)]['Bus journeys (m)'])/2\n",
    "            underground = (row['Underground journeys (m)'] + publicTransport.iloc[min(index+1, len(publicTransport)-1)]['Underground journeys (m)'])/2\n",
    "            DLR = (row['DLR Journeys (m)'] + publicTransport.iloc[min(index+1, len(publicTransport)-1)]['DLR Journeys (m)'])/2\n",
    "            tram = (row['Tram Journeys (m)'] + publicTransport.iloc[min(index+1, len(publicTransport)-1)]['Tram Journeys (m)'])/2\n",
    "            overground = (row['Overground Journeys (m)'] + publicTransport.iloc[min(index+1, len(publicTransport)-1)]['Overground Journeys (m)'])/2\n",
    "            cable = (row['London Cable Car Journeys (m)'] + publicTransport.iloc[min(index+1, len(publicTransport)-1)]['London Cable Car Journeys (m)'])/2\n",
    "            rail = (row['TfL Rail Journeys (m)'] + publicTransport.iloc[min(index+1, len(publicTransport)-1)]['TfL Rail Journeys (m)'])/2\n",
    "\n",
    "            tflJourneys.loc[index] = ({'Month' : row['Period ending'][3:10], 'Bus journeys (m)': bus, 'Underground journeys (m)' : underground, 'DLR Journeys (m)' : DLR, 'Tram Journeys (m)': tram, 'Overground Journeys (m)': overground, 'London Cable Car Journeys (m)': cable, 'TfL Rail Journeys (m)': rail})\n"
   ]
  },
  {
   "cell_type": "markdown",
   "metadata": {},
   "source": [
    "4. Refactored data is well structured."
   ]
  },
  {
   "cell_type": "code",
   "execution_count": 280,
   "metadata": {},
   "outputs": [
    {
     "data": {
      "text/html": [
       "<div>\n",
       "<style scoped>\n",
       "    .dataframe tbody tr th:only-of-type {\n",
       "        vertical-align: middle;\n",
       "    }\n",
       "\n",
       "    .dataframe tbody tr th {\n",
       "        vertical-align: top;\n",
       "    }\n",
       "\n",
       "    .dataframe thead th {\n",
       "        text-align: right;\n",
       "    }\n",
       "</style>\n",
       "<table border=\"1\" class=\"dataframe\">\n",
       "  <thead>\n",
       "    <tr style=\"text-align: right;\">\n",
       "      <th></th>\n",
       "      <th>Month</th>\n",
       "      <th>Bus journeys (m)</th>\n",
       "      <th>Underground journeys (m)</th>\n",
       "      <th>DLR Journeys (m)</th>\n",
       "      <th>Tram Journeys (m)</th>\n",
       "      <th>Overground Journeys (m)</th>\n",
       "      <th>London Cable Car Journeys (m)</th>\n",
       "      <th>TfL Rail Journeys (m)</th>\n",
       "    </tr>\n",
       "  </thead>\n",
       "  <tbody>\n",
       "    <tr>\n",
       "      <th>0</th>\n",
       "      <td>May-10</td>\n",
       "      <td>185.35</td>\n",
       "      <td>87.50</td>\n",
       "      <td>6.05</td>\n",
       "      <td>2.25</td>\n",
       "      <td>0.00</td>\n",
       "      <td>0.00</td>\n",
       "      <td>0.00</td>\n",
       "    </tr>\n",
       "    <tr>\n",
       "      <th>2</th>\n",
       "      <td>Jun-10</td>\n",
       "      <td>179.65</td>\n",
       "      <td>85.40</td>\n",
       "      <td>5.95</td>\n",
       "      <td>2.10</td>\n",
       "      <td>0.00</td>\n",
       "      <td>0.00</td>\n",
       "      <td>0.00</td>\n",
       "    </tr>\n",
       "    <tr>\n",
       "      <th>3</th>\n",
       "      <td>Jul-10</td>\n",
       "      <td>171.90</td>\n",
       "      <td>84.70</td>\n",
       "      <td>5.95</td>\n",
       "      <td>2.05</td>\n",
       "      <td>0.00</td>\n",
       "      <td>0.00</td>\n",
       "      <td>0.00</td>\n",
       "    </tr>\n",
       "    <tr>\n",
       "      <th>4</th>\n",
       "      <td>Aug-10</td>\n",
       "      <td>168.10</td>\n",
       "      <td>81.90</td>\n",
       "      <td>5.65</td>\n",
       "      <td>2.00</td>\n",
       "      <td>0.00</td>\n",
       "      <td>0.00</td>\n",
       "      <td>0.00</td>\n",
       "    </tr>\n",
       "    <tr>\n",
       "      <th>5</th>\n",
       "      <td>Sep-10</td>\n",
       "      <td>182.80</td>\n",
       "      <td>84.80</td>\n",
       "      <td>5.90</td>\n",
       "      <td>2.15</td>\n",
       "      <td>0.00</td>\n",
       "      <td>0.00</td>\n",
       "      <td>0.00</td>\n",
       "    </tr>\n",
       "    <tr>\n",
       "      <th>...</th>\n",
       "      <td>...</td>\n",
       "      <td>...</td>\n",
       "      <td>...</td>\n",
       "      <td>...</td>\n",
       "      <td>...</td>\n",
       "      <td>...</td>\n",
       "      <td>...</td>\n",
       "      <td>...</td>\n",
       "    </tr>\n",
       "    <tr>\n",
       "      <th>167</th>\n",
       "      <td>Mar-23</td>\n",
       "      <td>141.90</td>\n",
       "      <td>87.35</td>\n",
       "      <td>7.70</td>\n",
       "      <td>1.65</td>\n",
       "      <td>13.30</td>\n",
       "      <td>0.10</td>\n",
       "      <td>14.00</td>\n",
       "    </tr>\n",
       "    <tr>\n",
       "      <th>170</th>\n",
       "      <td>May-23</td>\n",
       "      <td>145.90</td>\n",
       "      <td>89.20</td>\n",
       "      <td>7.80</td>\n",
       "      <td>1.65</td>\n",
       "      <td>14.35</td>\n",
       "      <td>0.10</td>\n",
       "      <td>15.55</td>\n",
       "    </tr>\n",
       "    <tr>\n",
       "      <th>171</th>\n",
       "      <td>Jun-23</td>\n",
       "      <td>146.45</td>\n",
       "      <td>92.15</td>\n",
       "      <td>7.90</td>\n",
       "      <td>1.65</td>\n",
       "      <td>14.45</td>\n",
       "      <td>0.10</td>\n",
       "      <td>16.35</td>\n",
       "    </tr>\n",
       "    <tr>\n",
       "      <th>172</th>\n",
       "      <td>Jul-23</td>\n",
       "      <td>138.40</td>\n",
       "      <td>90.35</td>\n",
       "      <td>7.55</td>\n",
       "      <td>1.50</td>\n",
       "      <td>13.35</td>\n",
       "      <td>0.15</td>\n",
       "      <td>16.05</td>\n",
       "    </tr>\n",
       "    <tr>\n",
       "      <th>173</th>\n",
       "      <td>Aug-23</td>\n",
       "      <td>134.75</td>\n",
       "      <td>85.15</td>\n",
       "      <td>7.25</td>\n",
       "      <td>1.55</td>\n",
       "      <td>13.10</td>\n",
       "      <td>0.20</td>\n",
       "      <td>15.50</td>\n",
       "    </tr>\n",
       "  </tbody>\n",
       "</table>\n",
       "<p>141 rows × 8 columns</p>\n",
       "</div>"
      ],
      "text/plain": [
       "      Month  Bus journeys (m)  Underground journeys (m)  DLR Journeys (m)  \\\n",
       "0    May-10            185.35                     87.50              6.05   \n",
       "2    Jun-10            179.65                     85.40              5.95   \n",
       "3    Jul-10            171.90                     84.70              5.95   \n",
       "4    Aug-10            168.10                     81.90              5.65   \n",
       "5    Sep-10            182.80                     84.80              5.90   \n",
       "..      ...               ...                       ...               ...   \n",
       "167  Mar-23            141.90                     87.35              7.70   \n",
       "170  May-23            145.90                     89.20              7.80   \n",
       "171  Jun-23            146.45                     92.15              7.90   \n",
       "172  Jul-23            138.40                     90.35              7.55   \n",
       "173  Aug-23            134.75                     85.15              7.25   \n",
       "\n",
       "     Tram Journeys (m)  Overground Journeys (m)  \\\n",
       "0                 2.25                     0.00   \n",
       "2                 2.10                     0.00   \n",
       "3                 2.05                     0.00   \n",
       "4                 2.00                     0.00   \n",
       "5                 2.15                     0.00   \n",
       "..                 ...                      ...   \n",
       "167               1.65                    13.30   \n",
       "170               1.65                    14.35   \n",
       "171               1.65                    14.45   \n",
       "172               1.50                    13.35   \n",
       "173               1.55                    13.10   \n",
       "\n",
       "     London Cable Car Journeys (m)  TfL Rail Journeys (m)  \n",
       "0                             0.00                   0.00  \n",
       "2                             0.00                   0.00  \n",
       "3                             0.00                   0.00  \n",
       "4                             0.00                   0.00  \n",
       "5                             0.00                   0.00  \n",
       "..                             ...                    ...  \n",
       "167                           0.10                  14.00  \n",
       "170                           0.10                  15.55  \n",
       "171                           0.10                  16.35  \n",
       "172                           0.15                  16.05  \n",
       "173                           0.20                  15.50  \n",
       "\n",
       "[141 rows x 8 columns]"
      ]
     },
     "execution_count": 280,
     "metadata": {},
     "output_type": "execute_result"
    }
   ],
   "source": [
    "tflJourneys"
   ]
  },
  {
   "cell_type": "markdown",
   "metadata": {},
   "source": [
    "5. Rows before October 2016 are dropped as the traffic dataset only has data for confirmed vehicle from October 2016 onwards."
   ]
  },
  {
   "cell_type": "code",
   "execution_count": 281,
   "metadata": {},
   "outputs": [
    {
     "data": {
      "text/html": [
       "<div>\n",
       "<style scoped>\n",
       "    .dataframe tbody tr th:only-of-type {\n",
       "        vertical-align: middle;\n",
       "    }\n",
       "\n",
       "    .dataframe tbody tr th {\n",
       "        vertical-align: top;\n",
       "    }\n",
       "\n",
       "    .dataframe thead th {\n",
       "        text-align: right;\n",
       "    }\n",
       "</style>\n",
       "<table border=\"1\" class=\"dataframe\">\n",
       "  <thead>\n",
       "    <tr style=\"text-align: right;\">\n",
       "      <th></th>\n",
       "      <th>Month</th>\n",
       "      <th>Bus journeys (m)</th>\n",
       "      <th>Underground journeys (m)</th>\n",
       "      <th>DLR Journeys (m)</th>\n",
       "      <th>Tram Journeys (m)</th>\n",
       "      <th>Overground Journeys (m)</th>\n",
       "      <th>London Cable Car Journeys (m)</th>\n",
       "      <th>TfL Rail Journeys (m)</th>\n",
       "    </tr>\n",
       "  </thead>\n",
       "  <tbody>\n",
       "    <tr>\n",
       "      <th>0</th>\n",
       "      <td>Oct-16</td>\n",
       "      <td>181.75</td>\n",
       "      <td>111.50</td>\n",
       "      <td>9.85</td>\n",
       "      <td>2.35</td>\n",
       "      <td>15.30</td>\n",
       "      <td>0.10</td>\n",
       "      <td>3.75</td>\n",
       "    </tr>\n",
       "    <tr>\n",
       "      <th>1</th>\n",
       "      <td>Nov-16</td>\n",
       "      <td>179.65</td>\n",
       "      <td>114.65</td>\n",
       "      <td>10.10</td>\n",
       "      <td>2.15</td>\n",
       "      <td>15.55</td>\n",
       "      <td>0.10</td>\n",
       "      <td>3.90</td>\n",
       "    </tr>\n",
       "    <tr>\n",
       "      <th>2</th>\n",
       "      <td>Dec-16</td>\n",
       "      <td>164.25</td>\n",
       "      <td>102.85</td>\n",
       "      <td>8.85</td>\n",
       "      <td>2.10</td>\n",
       "      <td>13.85</td>\n",
       "      <td>0.10</td>\n",
       "      <td>3.65</td>\n",
       "    </tr>\n",
       "    <tr>\n",
       "      <th>3</th>\n",
       "      <td>Jan-17</td>\n",
       "      <td>160.10</td>\n",
       "      <td>95.45</td>\n",
       "      <td>8.60</td>\n",
       "      <td>2.25</td>\n",
       "      <td>13.40</td>\n",
       "      <td>0.10</td>\n",
       "      <td>3.55</td>\n",
       "    </tr>\n",
       "    <tr>\n",
       "      <th>4</th>\n",
       "      <td>Feb-17</td>\n",
       "      <td>173.65</td>\n",
       "      <td>105.10</td>\n",
       "      <td>9.65</td>\n",
       "      <td>2.30</td>\n",
       "      <td>14.70</td>\n",
       "      <td>0.10</td>\n",
       "      <td>3.70</td>\n",
       "    </tr>\n",
       "    <tr>\n",
       "      <th>...</th>\n",
       "      <td>...</td>\n",
       "      <td>...</td>\n",
       "      <td>...</td>\n",
       "      <td>...</td>\n",
       "      <td>...</td>\n",
       "      <td>...</td>\n",
       "      <td>...</td>\n",
       "      <td>...</td>\n",
       "    </tr>\n",
       "    <tr>\n",
       "      <th>69</th>\n",
       "      <td>Mar-23</td>\n",
       "      <td>141.90</td>\n",
       "      <td>87.35</td>\n",
       "      <td>7.70</td>\n",
       "      <td>1.65</td>\n",
       "      <td>13.30</td>\n",
       "      <td>0.10</td>\n",
       "      <td>14.00</td>\n",
       "    </tr>\n",
       "    <tr>\n",
       "      <th>70</th>\n",
       "      <td>May-23</td>\n",
       "      <td>145.90</td>\n",
       "      <td>89.20</td>\n",
       "      <td>7.80</td>\n",
       "      <td>1.65</td>\n",
       "      <td>14.35</td>\n",
       "      <td>0.10</td>\n",
       "      <td>15.55</td>\n",
       "    </tr>\n",
       "    <tr>\n",
       "      <th>71</th>\n",
       "      <td>Jun-23</td>\n",
       "      <td>146.45</td>\n",
       "      <td>92.15</td>\n",
       "      <td>7.90</td>\n",
       "      <td>1.65</td>\n",
       "      <td>14.45</td>\n",
       "      <td>0.10</td>\n",
       "      <td>16.35</td>\n",
       "    </tr>\n",
       "    <tr>\n",
       "      <th>72</th>\n",
       "      <td>Jul-23</td>\n",
       "      <td>138.40</td>\n",
       "      <td>90.35</td>\n",
       "      <td>7.55</td>\n",
       "      <td>1.50</td>\n",
       "      <td>13.35</td>\n",
       "      <td>0.15</td>\n",
       "      <td>16.05</td>\n",
       "    </tr>\n",
       "    <tr>\n",
       "      <th>73</th>\n",
       "      <td>Aug-23</td>\n",
       "      <td>134.75</td>\n",
       "      <td>85.15</td>\n",
       "      <td>7.25</td>\n",
       "      <td>1.55</td>\n",
       "      <td>13.10</td>\n",
       "      <td>0.20</td>\n",
       "      <td>15.50</td>\n",
       "    </tr>\n",
       "  </tbody>\n",
       "</table>\n",
       "<p>74 rows × 8 columns</p>\n",
       "</div>"
      ],
      "text/plain": [
       "     Month  Bus journeys (m)  Underground journeys (m)  DLR Journeys (m)  \\\n",
       "0   Oct-16            181.75                    111.50              9.85   \n",
       "1   Nov-16            179.65                    114.65             10.10   \n",
       "2   Dec-16            164.25                    102.85              8.85   \n",
       "3   Jan-17            160.10                     95.45              8.60   \n",
       "4   Feb-17            173.65                    105.10              9.65   \n",
       "..     ...               ...                       ...               ...   \n",
       "69  Mar-23            141.90                     87.35              7.70   \n",
       "70  May-23            145.90                     89.20              7.80   \n",
       "71  Jun-23            146.45                     92.15              7.90   \n",
       "72  Jul-23            138.40                     90.35              7.55   \n",
       "73  Aug-23            134.75                     85.15              7.25   \n",
       "\n",
       "    Tram Journeys (m)  Overground Journeys (m)  London Cable Car Journeys (m)  \\\n",
       "0                2.35                    15.30                           0.10   \n",
       "1                2.15                    15.55                           0.10   \n",
       "2                2.10                    13.85                           0.10   \n",
       "3                2.25                    13.40                           0.10   \n",
       "4                2.30                    14.70                           0.10   \n",
       "..                ...                      ...                            ...   \n",
       "69               1.65                    13.30                           0.10   \n",
       "70               1.65                    14.35                           0.10   \n",
       "71               1.65                    14.45                           0.10   \n",
       "72               1.50                    13.35                           0.15   \n",
       "73               1.55                    13.10                           0.20   \n",
       "\n",
       "    TfL Rail Journeys (m)  \n",
       "0                    3.75  \n",
       "1                    3.90  \n",
       "2                    3.65  \n",
       "3                    3.55  \n",
       "4                    3.70  \n",
       "..                    ...  \n",
       "69                  14.00  \n",
       "70                  15.55  \n",
       "71                  16.35  \n",
       "72                  16.05  \n",
       "73                  15.50  \n",
       "\n",
       "[74 rows x 8 columns]"
      ]
     },
     "execution_count": 281,
     "metadata": {},
     "output_type": "execute_result"
    }
   ],
   "source": [
    "idx = tflJourneys.loc[tflJourneys['Month']=='Oct-16'].index[0]\n",
    "tflJourneys = tflJourneys.loc[idx:]\n",
    "tflJourneys.reset_index(drop=True, inplace=True)\n",
    "tflJourneys\n"
   ]
  },
  {
   "cell_type": "markdown",
   "metadata": {},
   "source": [
    "6. Unnecceasry columns are dropped to prepare for joining."
   ]
  },
  {
   "cell_type": "code",
   "execution_count": 282,
   "metadata": {},
   "outputs": [
    {
     "data": {
      "text/html": [
       "<div>\n",
       "<style scoped>\n",
       "    .dataframe tbody tr th:only-of-type {\n",
       "        vertical-align: middle;\n",
       "    }\n",
       "\n",
       "    .dataframe tbody tr th {\n",
       "        vertical-align: top;\n",
       "    }\n",
       "\n",
       "    .dataframe thead th {\n",
       "        text-align: right;\n",
       "    }\n",
       "</style>\n",
       "<table border=\"1\" class=\"dataframe\">\n",
       "  <thead>\n",
       "    <tr style=\"text-align: right;\">\n",
       "      <th></th>\n",
       "      <th>Month</th>\n",
       "      <th>CC Confirmed Vehicles observed during Charging Hours</th>\n",
       "    </tr>\n",
       "  </thead>\n",
       "  <tbody>\n",
       "    <tr>\n",
       "      <th>0</th>\n",
       "      <td>Oct-16</td>\n",
       "      <td>2283444.0</td>\n",
       "    </tr>\n",
       "    <tr>\n",
       "      <th>1</th>\n",
       "      <td>Nov-16</td>\n",
       "      <td>2396023.0</td>\n",
       "    </tr>\n",
       "    <tr>\n",
       "      <th>2</th>\n",
       "      <td>Dec-16</td>\n",
       "      <td>1794886.0</td>\n",
       "    </tr>\n",
       "    <tr>\n",
       "      <th>3</th>\n",
       "      <td>Jan-17</td>\n",
       "      <td>2119813.0</td>\n",
       "    </tr>\n",
       "    <tr>\n",
       "      <th>4</th>\n",
       "      <td>Feb-17</td>\n",
       "      <td>2049863.0</td>\n",
       "    </tr>\n",
       "    <tr>\n",
       "      <th>...</th>\n",
       "      <td>...</td>\n",
       "      <td>...</td>\n",
       "    </tr>\n",
       "    <tr>\n",
       "      <th>79</th>\n",
       "      <td>May-23</td>\n",
       "      <td>2308362.0</td>\n",
       "    </tr>\n",
       "    <tr>\n",
       "      <th>80</th>\n",
       "      <td>Jun-23</td>\n",
       "      <td>2443181.0</td>\n",
       "    </tr>\n",
       "    <tr>\n",
       "      <th>81</th>\n",
       "      <td>Jul-23</td>\n",
       "      <td>2316631.0</td>\n",
       "    </tr>\n",
       "    <tr>\n",
       "      <th>82</th>\n",
       "      <td>Aug-23</td>\n",
       "      <td>2277610.0</td>\n",
       "    </tr>\n",
       "    <tr>\n",
       "      <th>83</th>\n",
       "      <td>Sep-23</td>\n",
       "      <td>2439795.0</td>\n",
       "    </tr>\n",
       "  </tbody>\n",
       "</table>\n",
       "<p>84 rows × 2 columns</p>\n",
       "</div>"
      ],
      "text/plain": [
       "     Month  CC Confirmed Vehicles observed during Charging Hours\n",
       "0   Oct-16                                          2283444.0   \n",
       "1   Nov-16                                          2396023.0   \n",
       "2   Dec-16                                          1794886.0   \n",
       "3   Jan-17                                          2119813.0   \n",
       "4   Feb-17                                          2049863.0   \n",
       "..     ...                                                ...   \n",
       "79  May-23                                          2308362.0   \n",
       "80  Jun-23                                          2443181.0   \n",
       "81  Jul-23                                          2316631.0   \n",
       "82  Aug-23                                          2277610.0   \n",
       "83  Sep-23                                          2439795.0   \n",
       "\n",
       "[84 rows x 2 columns]"
      ]
     },
     "execution_count": 282,
     "metadata": {},
     "output_type": "execute_result"
    }
   ],
   "source": [
    "\n",
    "traffic.dropna(subset=['CC Confirmed Vehicles observed during Charging Hours'], inplace=True)\n",
    "\n",
    "numVehicles = traffic.loc[:,['Month','CC Confirmed Vehicles observed during Charging Hours']]\n",
    "numVehicles.reset_index(drop=True, inplace=True)\n",
    "numVehicles \n"
   ]
  },
  {
   "cell_type": "markdown",
   "metadata": {},
   "source": [
    "# Data Integration\n",
    "\n",
    "Joining the datasets based on month for presentation and convenience."
   ]
  },
  {
   "cell_type": "code",
   "execution_count": 283,
   "metadata": {},
   "outputs": [
    {
     "data": {
      "text/html": [
       "<div>\n",
       "<style scoped>\n",
       "    .dataframe tbody tr th:only-of-type {\n",
       "        vertical-align: middle;\n",
       "    }\n",
       "\n",
       "    .dataframe tbody tr th {\n",
       "        vertical-align: top;\n",
       "    }\n",
       "\n",
       "    .dataframe thead th {\n",
       "        text-align: right;\n",
       "    }\n",
       "</style>\n",
       "<table border=\"1\" class=\"dataframe\">\n",
       "  <thead>\n",
       "    <tr style=\"text-align: right;\">\n",
       "      <th></th>\n",
       "      <th>Bus journeys (m)</th>\n",
       "      <th>Underground journeys (m)</th>\n",
       "      <th>DLR Journeys (m)</th>\n",
       "      <th>Tram Journeys (m)</th>\n",
       "      <th>Overground Journeys (m)</th>\n",
       "      <th>London Cable Car Journeys (m)</th>\n",
       "      <th>TfL Rail Journeys (m)</th>\n",
       "      <th>CC Confirmed Vehicles observed during Charging Hours</th>\n",
       "    </tr>\n",
       "    <tr>\n",
       "      <th>Month</th>\n",
       "      <th></th>\n",
       "      <th></th>\n",
       "      <th></th>\n",
       "      <th></th>\n",
       "      <th></th>\n",
       "      <th></th>\n",
       "      <th></th>\n",
       "      <th></th>\n",
       "    </tr>\n",
       "  </thead>\n",
       "  <tbody>\n",
       "    <tr>\n",
       "      <th>2016-10</th>\n",
       "      <td>181.75</td>\n",
       "      <td>111.50</td>\n",
       "      <td>9.85</td>\n",
       "      <td>2.35</td>\n",
       "      <td>15.30</td>\n",
       "      <td>0.10</td>\n",
       "      <td>3.75</td>\n",
       "      <td>2283444.0</td>\n",
       "    </tr>\n",
       "    <tr>\n",
       "      <th>2016-11</th>\n",
       "      <td>179.65</td>\n",
       "      <td>114.65</td>\n",
       "      <td>10.10</td>\n",
       "      <td>2.15</td>\n",
       "      <td>15.55</td>\n",
       "      <td>0.10</td>\n",
       "      <td>3.90</td>\n",
       "      <td>2396023.0</td>\n",
       "    </tr>\n",
       "    <tr>\n",
       "      <th>2016-12</th>\n",
       "      <td>164.25</td>\n",
       "      <td>102.85</td>\n",
       "      <td>8.85</td>\n",
       "      <td>2.10</td>\n",
       "      <td>13.85</td>\n",
       "      <td>0.10</td>\n",
       "      <td>3.65</td>\n",
       "      <td>1794886.0</td>\n",
       "    </tr>\n",
       "    <tr>\n",
       "      <th>2017-01</th>\n",
       "      <td>160.10</td>\n",
       "      <td>95.45</td>\n",
       "      <td>8.60</td>\n",
       "      <td>2.25</td>\n",
       "      <td>13.40</td>\n",
       "      <td>0.10</td>\n",
       "      <td>3.55</td>\n",
       "      <td>2119813.0</td>\n",
       "    </tr>\n",
       "    <tr>\n",
       "      <th>2017-02</th>\n",
       "      <td>173.65</td>\n",
       "      <td>105.10</td>\n",
       "      <td>9.65</td>\n",
       "      <td>2.30</td>\n",
       "      <td>14.70</td>\n",
       "      <td>0.10</td>\n",
       "      <td>3.70</td>\n",
       "      <td>2049863.0</td>\n",
       "    </tr>\n",
       "    <tr>\n",
       "      <th>...</th>\n",
       "      <td>...</td>\n",
       "      <td>...</td>\n",
       "      <td>...</td>\n",
       "      <td>...</td>\n",
       "      <td>...</td>\n",
       "      <td>...</td>\n",
       "      <td>...</td>\n",
       "      <td>...</td>\n",
       "    </tr>\n",
       "    <tr>\n",
       "      <th>2023-03</th>\n",
       "      <td>141.90</td>\n",
       "      <td>87.35</td>\n",
       "      <td>7.70</td>\n",
       "      <td>1.65</td>\n",
       "      <td>13.30</td>\n",
       "      <td>0.10</td>\n",
       "      <td>14.00</td>\n",
       "      <td>2377372.0</td>\n",
       "    </tr>\n",
       "    <tr>\n",
       "      <th>2023-05</th>\n",
       "      <td>145.90</td>\n",
       "      <td>89.20</td>\n",
       "      <td>7.80</td>\n",
       "      <td>1.65</td>\n",
       "      <td>14.35</td>\n",
       "      <td>0.10</td>\n",
       "      <td>15.55</td>\n",
       "      <td>2308362.0</td>\n",
       "    </tr>\n",
       "    <tr>\n",
       "      <th>2023-06</th>\n",
       "      <td>146.45</td>\n",
       "      <td>92.15</td>\n",
       "      <td>7.90</td>\n",
       "      <td>1.65</td>\n",
       "      <td>14.45</td>\n",
       "      <td>0.10</td>\n",
       "      <td>16.35</td>\n",
       "      <td>2443181.0</td>\n",
       "    </tr>\n",
       "    <tr>\n",
       "      <th>2023-07</th>\n",
       "      <td>138.40</td>\n",
       "      <td>90.35</td>\n",
       "      <td>7.55</td>\n",
       "      <td>1.50</td>\n",
       "      <td>13.35</td>\n",
       "      <td>0.15</td>\n",
       "      <td>16.05</td>\n",
       "      <td>2316631.0</td>\n",
       "    </tr>\n",
       "    <tr>\n",
       "      <th>2023-08</th>\n",
       "      <td>134.75</td>\n",
       "      <td>85.15</td>\n",
       "      <td>7.25</td>\n",
       "      <td>1.55</td>\n",
       "      <td>13.10</td>\n",
       "      <td>0.20</td>\n",
       "      <td>15.50</td>\n",
       "      <td>2277610.0</td>\n",
       "    </tr>\n",
       "  </tbody>\n",
       "</table>\n",
       "<p>74 rows × 8 columns</p>\n",
       "</div>"
      ],
      "text/plain": [
       "         Bus journeys (m)  Underground journeys (m)  DLR Journeys (m)  \\\n",
       "Month                                                                   \n",
       "2016-10            181.75                    111.50              9.85   \n",
       "2016-11            179.65                    114.65             10.10   \n",
       "2016-12            164.25                    102.85              8.85   \n",
       "2017-01            160.10                     95.45              8.60   \n",
       "2017-02            173.65                    105.10              9.65   \n",
       "...                   ...                       ...               ...   \n",
       "2023-03            141.90                     87.35              7.70   \n",
       "2023-05            145.90                     89.20              7.80   \n",
       "2023-06            146.45                     92.15              7.90   \n",
       "2023-07            138.40                     90.35              7.55   \n",
       "2023-08            134.75                     85.15              7.25   \n",
       "\n",
       "         Tram Journeys (m)  Overground Journeys (m)  \\\n",
       "Month                                                 \n",
       "2016-10               2.35                    15.30   \n",
       "2016-11               2.15                    15.55   \n",
       "2016-12               2.10                    13.85   \n",
       "2017-01               2.25                    13.40   \n",
       "2017-02               2.30                    14.70   \n",
       "...                    ...                      ...   \n",
       "2023-03               1.65                    13.30   \n",
       "2023-05               1.65                    14.35   \n",
       "2023-06               1.65                    14.45   \n",
       "2023-07               1.50                    13.35   \n",
       "2023-08               1.55                    13.10   \n",
       "\n",
       "         London Cable Car Journeys (m)  TfL Rail Journeys (m)  \\\n",
       "Month                                                           \n",
       "2016-10                           0.10                   3.75   \n",
       "2016-11                           0.10                   3.90   \n",
       "2016-12                           0.10                   3.65   \n",
       "2017-01                           0.10                   3.55   \n",
       "2017-02                           0.10                   3.70   \n",
       "...                                ...                    ...   \n",
       "2023-03                           0.10                  14.00   \n",
       "2023-05                           0.10                  15.55   \n",
       "2023-06                           0.10                  16.35   \n",
       "2023-07                           0.15                  16.05   \n",
       "2023-08                           0.20                  15.50   \n",
       "\n",
       "         CC Confirmed Vehicles observed during Charging Hours  \n",
       "Month                                                          \n",
       "2016-10                                          2283444.0     \n",
       "2016-11                                          2396023.0     \n",
       "2016-12                                          1794886.0     \n",
       "2017-01                                          2119813.0     \n",
       "2017-02                                          2049863.0     \n",
       "...                                                    ...     \n",
       "2023-03                                          2377372.0     \n",
       "2023-05                                          2308362.0     \n",
       "2023-06                                          2443181.0     \n",
       "2023-07                                          2316631.0     \n",
       "2023-08                                          2277610.0     \n",
       "\n",
       "[74 rows x 8 columns]"
      ]
     },
     "execution_count": 283,
     "metadata": {},
     "output_type": "execute_result"
    }
   ],
   "source": [
    "df = tflJourneys.join(numVehicles.set_index('Month'), on='Month')\n",
    "df = df.set_index('Month')\n",
    "df.index = pd.to_datetime(df.index, format=\"%b-%y\").to_period('M')\n",
    "\n",
    "df"
   ]
  },
  {
   "cell_type": "markdown",
   "metadata": {},
   "source": [
    "# Data Exploration"
   ]
  },
  {
   "cell_type": "code",
   "execution_count": 284,
   "metadata": {},
   "outputs": [
    {
     "data": {
      "image/png": "[encoded data removed]",
      "text/plain": [
       "<Figure size 2400x1600 with 1 Axes>"
      ]
     },
     "metadata": {},
     "output_type": "display_data"
    }
   ],
   "source": [
    "import matplotlib.pyplot as plt\n",
    "import numpy as np\n",
    "\n",
    "\n",
    "# Extract journey types\n",
    "journey_types = df.iloc[:, :-1]\n",
    "\n",
    "# Plotting a stacked bar chart with increased spacing\n",
    "fig, ax = plt.subplots(figsize=(24, 16))\n",
    "\n",
    "# Adjust bar width and add some padding\n",
    "bar_width = 0.5  # Adjust as needed\n",
    "bar_padding = 0.5  # Adjust as needed\n",
    "num_months = len(df)\n",
    "bar_positions = np.arange(num_months) * (bar_width + bar_padding)\n",
    "\n",
    "# Plot each journey type with cumulative sum\n",
    "for i in range(len(journey_types.columns)):\n",
    "    ax.bar(bar_positions, journey_types.iloc[:, i], width=bar_width, label=journey_types.columns[i], bottom=journey_types.iloc[:, :i].sum(axis=1))\n",
    "\n",
    "plt.xticks(np.arange(num_months) * (bar_width + bar_padding) + bar_width / 2, df.index, rotation=45, ha='right')\n",
    "\n",
    "ax.set_title('Stacked Bar Chart of Journey Types Travelled')\n",
    "ax.set_xlabel('Month')\n",
    "ax.set_ylabel('Journey Counts (m)')\n",
    "ax.legend(title='Journey Types', bbox_to_anchor=(1, 1))\n",
    "\n",
    "plt.show()\n",
    "\n"
   ]
  },
  {
   "cell_type": "markdown",
   "metadata": {},
   "source": [
    "Based on the bar chart, each journey types before COVID-19 had a higher average, then followed by a significant drop in the beginning of the pandemic and finally recovering in a steady rise."
   ]
  },
  {
   "cell_type": "code",
   "execution_count": 285,
   "metadata": {},
   "outputs": [
    {
     "data": {
      "image/png": "[encoded data removed]",
      "text/plain": [
       "<Figure size 640x480 with 1 Axes>"
      ]
     },
     "metadata": {},
     "output_type": "display_data"
    }
   ],
   "source": [
    "import matplotlib.pyplot as plt\n",
    "import matplotlib.dates as mdates\n",
    "\n",
    "total_journeys = df.iloc[:,:-1].sum(axis=1)\n",
    "\n",
    "total_journeys.plot()\n",
    "\n",
    "\n",
    "plt.title('Public Transport Trend')\n",
    "plt.xlabel('Year')\n",
    "plt.ylabel('Journey Counts (m)')\n",
    "plt.show()\n"
   ]
  },
  {
   "cell_type": "markdown",
   "metadata": {},
   "source": [
    "The plot above shows the Public Transport Trend."
   ]
  },
  {
   "cell_type": "code",
   "execution_count": 286,
   "metadata": {},
   "outputs": [
    {
     "data": {
      "image/png": "[encoded data removed]",
      "text/plain": [
       "<Figure size 640x480 with 1 Axes>"
      ]
     },
     "metadata": {},
     "output_type": "display_data"
    }
   ],
   "source": [
    "import matplotlib.pyplot as plt\n",
    "\n",
    "median_value = df.iloc[:,-1].median()\n",
    "\n",
    "df.iloc[:,-1].plot(kind='line')\n",
    "\n",
    "# Add median line\n",
    "plt.axhline(y=median_value, color='red', linestyle='--', label='Median')\n",
    "\n",
    "plt.title('CC Confirmed Vehicles observed during Charging Hours (millions) Trend')\n",
    "plt.xlabel('Year')\n",
    "plt.ylabel('Number of Confirmed Vehicles (millions)')\n",
    "plt.legend(bbox_to_anchor=(1, 1)) \n",
    "plt.show()\n"
   ]
  },
  {
   "cell_type": "markdown",
   "metadata": {},
   "source": [
    "Number of Confirmed Vehicles were on a downward trend before COVID-19, and went on an upward trend after the pandemic, but recessed back to the proximity of the median."
   ]
  },
  {
   "cell_type": "markdown",
   "metadata": {},
   "source": [
    "# Data Selection"
   ]
  },
  {
   "cell_type": "markdown",
   "metadata": {},
   "source": [
    "X is a variable for all the features (all columns except for the last column), and y is a variable for the target column 'CC Confirmed Vehicles observed during Charging Hours'."
   ]
  },
  {
   "cell_type": "code",
   "execution_count": 287,
   "metadata": {},
   "outputs": [
    {
     "data": {
      "text/plain": [
       "((74, 7), (74,))"
      ]
     },
     "execution_count": 287,
     "metadata": {},
     "output_type": "execute_result"
    }
   ],
   "source": [
    "X = df.iloc[:,:-1]\n",
    "y = df['CC Confirmed Vehicles observed during Charging Hours']\n",
    "\n",
    "X.shape, y.shape"
   ]
  },
  {
   "cell_type": "markdown",
   "metadata": {},
   "source": [
    "Perform train-test split for training ML models."
   ]
  },
  {
   "cell_type": "code",
   "execution_count": 288,
   "metadata": {},
   "outputs": [
    {
     "data": {
      "text/plain": [
       "((44, 7), (30, 7), (44,), (30,))"
      ]
     },
     "execution_count": 288,
     "metadata": {},
     "output_type": "execute_result"
    }
   ],
   "source": [
    "from sklearn.model_selection import train_test_split\n",
    "\n",
    "X_train, X_test, y_train, y_test = train_test_split(X, y, test_size=0.4, random_state=42)\n",
    "\n",
    "X_train.shape, X_test.shape, y_train.shape, y_test.shape"
   ]
  },
  {
   "cell_type": "markdown",
   "metadata": {},
   "source": [
    "## Feature Scaling\n",
    "\n",
    "Using StandardScaler to scale features to ensure _equal contribution of features_ and _improved convergence_."
   ]
  },
  {
   "cell_type": "code",
   "execution_count": 289,
   "metadata": {},
   "outputs": [],
   "source": [
    "from sklearn.preprocessing import StandardScaler\n",
    "sc = StandardScaler()\n",
    "\n",
    "X_train = sc.fit_transform(X_train)\n",
    "X_test = sc.transform(X_test)"
   ]
  },
  {
   "cell_type": "markdown",
   "metadata": {},
   "source": [
    "## Feature Selection\n",
    "\n",
    "Despite the relatively small number of features, Feature Selection is implemented to exclude unimportant features, thereby enhancing the accuracy of models."
   ]
  },
  {
   "cell_type": "markdown",
   "metadata": {},
   "source": [
    "**Least Absolute Shrinkage and Selection Operator (LASSO)** is used to identify the importance of the features.\n",
    "\n",
    "The result shows that all features are significant."
   ]
  },
  {
   "cell_type": "code",
   "execution_count": 290,
   "metadata": {},
   "outputs": [
    {
     "data": {
      "text/plain": [
       "['Bus journeys (m)',\n",
       " 'Underground journeys (m)',\n",
       " 'DLR Journeys (m)',\n",
       " 'Tram Journeys (m)',\n",
       " 'Overground Journeys (m)',\n",
       " 'London Cable Car Journeys (m)',\n",
       " 'TfL Rail Journeys (m)']"
      ]
     },
     "execution_count": 290,
     "metadata": {},
     "output_type": "execute_result"
    }
   ],
   "source": [
    "from sklearn.linear_model import Lasso\n",
    "\n",
    "\n",
    "lasso_model = Lasso(alpha=0.1, max_iter=2000, tol=0.001) \n",
    "\n",
    "lasso_model.fit(X_train, y_train)\n",
    "\n",
    "X_train_lasso = X_train[:, lasso_model.coef_ != 0]\n",
    "X_test_lasso = X_test[:, lasso_model.coef_ != 0]\n",
    "\n",
    "selected_features_lasso = [feature for feature, coef in zip(X.columns, lasso_model.coef_) if coef != 0]\n",
    "selected_features_lasso"
   ]
  },
  {
   "cell_type": "code",
   "execution_count": 291,
   "metadata": {},
   "outputs": [],
   "source": [
    "X_train = X_train_lasso\n",
    "X_test = X_test_lasso"
   ]
  },
  {
   "cell_type": "markdown",
   "metadata": {},
   "source": [
    "# Data Mining\n",
    "\n",
    "Training each ML model with training data, then testing the models with testing data to evaluate and select the best model based on R-squared score."
   ]
  },
  {
   "cell_type": "markdown",
   "metadata": {},
   "source": [
    "## Supervised Learning"
   ]
  },
  {
   "cell_type": "markdown",
   "metadata": {},
   "source": [
    "### Support Vector Machine Regressor (SVR)\n",
    "\n",
    "SVM is applied to the dataset initially for experimentation. However, SVM did not perform well even with the kernel trick."
   ]
  },
  {
   "cell_type": "code",
   "execution_count": 292,
   "metadata": {},
   "outputs": [
    {
     "data": {
      "text/plain": [
       "-0.0041227003237997994"
      ]
     },
     "execution_count": 292,
     "metadata": {},
     "output_type": "execute_result"
    }
   ],
   "source": [
    "from sklearn.svm import SVR\n",
    "svr = SVR(kernel = 'linear')\n",
    "svr.fit(X_train, y_train)\n",
    "svr.score(X_test, y_test)"
   ]
  },
  {
   "cell_type": "code",
   "execution_count": 293,
   "metadata": {},
   "outputs": [
    {
     "data": {
      "text/plain": [
       "-0.004034794641277761"
      ]
     },
     "execution_count": 293,
     "metadata": {},
     "output_type": "execute_result"
    }
   ],
   "source": [
    "from sklearn.svm import SVR\n",
    "svr = SVR(kernel = 'poly')\n",
    "svr.fit(X_train, y_train)\n",
    "svr.score(X_test, y_test)"
   ]
  },
  {
   "cell_type": "code",
   "execution_count": 294,
   "metadata": {},
   "outputs": [
    {
     "data": {
      "text/plain": [
       "-0.004148040895689986"
      ]
     },
     "execution_count": 294,
     "metadata": {},
     "output_type": "execute_result"
    }
   ],
   "source": [
    "from sklearn.svm import SVR\n",
    "svr = SVR(kernel = 'sigmoid')\n",
    "svr.fit(X_train, y_train)\n",
    "svr.score(X_test, y_test)"
   ]
  },
  {
   "cell_type": "code",
   "execution_count": 295,
   "metadata": {},
   "outputs": [
    {
     "data": {
      "text/plain": [
       "-0.004140318857831504"
      ]
     },
     "execution_count": 295,
     "metadata": {},
     "output_type": "execute_result"
    }
   ],
   "source": [
    "from sklearn.svm import SVR\n",
    "svr = SVR(kernel = 'rbf')\n",
    "svr.fit(X_train, y_train)\n",
    "svr.score(X_test, y_test)"
   ]
  },
  {
   "cell_type": "markdown",
   "metadata": {},
   "source": [
    "### Decision Tree\n",
    "\n",
    "A Decision Tree performs significantly better on this dataset."
   ]
  },
  {
   "cell_type": "code",
   "execution_count": 296,
   "metadata": {},
   "outputs": [
    {
     "data": {
      "text/plain": [
       "0.5143893633247387"
      ]
     },
     "execution_count": 296,
     "metadata": {},
     "output_type": "execute_result"
    }
   ],
   "source": [
    "from sklearn.tree import DecisionTreeRegressor\n",
    "regressionTree = DecisionTreeRegressor(random_state=42)\n",
    "regressionTree.fit(X_train, y_train)\n",
    "regressionTree.score(X_test, y_test)"
   ]
  },
  {
   "cell_type": "markdown",
   "metadata": {},
   "source": [
    "## Ensemble Learning\n",
    "\n",
    "Experimenting with different Ensemble methods to increase accuracy."
   ]
  },
  {
   "cell_type": "markdown",
   "metadata": {},
   "source": [
    "### Boosting with AdaBoost"
   ]
  },
  {
   "cell_type": "code",
   "execution_count": 297,
   "metadata": {},
   "outputs": [
    {
     "data": {
      "text/plain": [
       "0.519513099455184"
      ]
     },
     "execution_count": 297,
     "metadata": {},
     "output_type": "execute_result"
    }
   ],
   "source": [
    "from  sklearn.ensemble import AdaBoostRegressor\n",
    "adaBoost = AdaBoostRegressor(random_state=42)\n",
    "adaBoost.fit(X_train, y_train)\n",
    "adaBoost.score(X_test, y_test)"
   ]
  },
  {
   "cell_type": "markdown",
   "metadata": {},
   "source": [
    "### Boosting with GradientBoostingRegressor"
   ]
  },
  {
   "cell_type": "code",
   "execution_count": 298,
   "metadata": {},
   "outputs": [
    {
     "data": {
      "text/plain": [
       "0.5701629126969854"
      ]
     },
     "execution_count": 298,
     "metadata": {},
     "output_type": "execute_result"
    }
   ],
   "source": [
    "from  sklearn.ensemble import GradientBoostingRegressor\n",
    "gradientBoost = GradientBoostingRegressor(random_state=42)\n",
    "gradientBoost.fit(X_train, y_train)\n",
    "gradientBoost.score(X_test, y_test)"
   ]
  },
  {
   "cell_type": "markdown",
   "metadata": {},
   "source": [
    "### Bagging with BaggingRegressor"
   ]
  },
  {
   "cell_type": "code",
   "execution_count": 299,
   "metadata": {},
   "outputs": [
    {
     "data": {
      "text/plain": [
       "0.5383030106464199"
      ]
     },
     "execution_count": 299,
     "metadata": {},
     "output_type": "execute_result"
    }
   ],
   "source": [
    "from  sklearn.ensemble import BaggingRegressor\n",
    "baggingReg = BaggingRegressor(random_state=42)\n",
    "baggingReg.fit(X_train, y_train)\n",
    "baggingReg.score(X_test, y_test)"
   ]
  },
  {
   "cell_type": "markdown",
   "metadata": {},
   "source": [
    "### Bagging with Random Forest"
   ]
  },
  {
   "cell_type": "code",
   "execution_count": 300,
   "metadata": {},
   "outputs": [
    {
     "data": {
      "text/plain": [
       "0.5680289214371144"
      ]
     },
     "execution_count": 300,
     "metadata": {},
     "output_type": "execute_result"
    }
   ],
   "source": [
    "from  sklearn.ensemble import RandomForestRegressor\n",
    "randomForest = RandomForestRegressor(random_state=42)\n",
    "randomForest.fit(X_train, y_train)\n",
    "randomForest.score(X_test, y_test)"
   ]
  },
  {
   "cell_type": "markdown",
   "metadata": {},
   "source": [
    "## Mean Cross-Validation Scores"
   ]
  },
  {
   "cell_type": "markdown",
   "metadata": {},
   "source": [
    "Evaluating the Regression model with 3 widely used metrics: \n",
    "- Mean Squared Error (MSE) : Measures the average squared difference between predicted and actual values. Lower values indicate better performance.\n",
    "- Mean Absolute Error (MAE) : MAE calculates the average absolute difference between the predicted and actual values. Unlike the Mean Squared Error (MSE), MAE does not square the errors, making it less sensitive to outliers. A lower MAE indicates better model performance, with zero indicating a perfect match between predicted and actual values.\n",
    "- R-Squared : Represents the proportion of the variance in the dependent variable that is predictable from the independent variables. A score of 1.0 indicates perfect predictions."
   ]
  },
  {
   "cell_type": "code",
   "execution_count": 301,
   "metadata": {},
   "outputs": [
    {
     "name": "stdout",
     "output_type": "stream",
     "text": [
      "AdaBoostRegressor\n",
      "Mean MSE: 105628900700.6033\n",
      "Mean MAE: 202500.3458\n",
      "Mean R^2: 0.2892\n",
      "\n",
      "GradientBoostingRegressor\n",
      "Mean MSE: 90575408109.2008\n",
      "Mean MAE: 177606.6829\n",
      "Mean R^2: 0.3983\n",
      "\n",
      "BaggingRegressor\n",
      "Mean MSE: 106802402849.7546\n",
      "Mean MAE: 205296.8617\n",
      "Mean R^2: 0.2708\n",
      "\n"
     ]
    },
    {
     "name": "stdout",
     "output_type": "stream",
     "text": [
      "RandomForestRegressor\n",
      "Mean MSE: 95365246940.7192\n",
      "Mean MAE: 185989.0777\n",
      "Mean R^2: 0.3871\n",
      "\n"
     ]
    }
   ],
   "source": [
    "from sklearn.model_selection import cross_val_score\n",
    "import numpy as np\n",
    "\n",
    "models = [adaBoost, gradientBoost, baggingReg, randomForest]\n",
    "\n",
    "for model in models:\n",
    "    y_pred = model.predict(X_test)\n",
    "\n",
    "    cv_r2 = cross_val_score(model, X_train, y_train, cv=5, scoring='r2')\n",
    "    mean_r2 = np.mean(cv_r2)\n",
    "\n",
    "    cv_nmse = cross_val_score(model, X_train, y_train, cv=5, scoring='neg_mean_squared_error')\n",
    "    mean_mse = np.mean(-cv_nmse)\n",
    "\n",
    "    cv_nmae = cross_val_score(model, X_train, y_train, cv=5, scoring='neg_mean_absolute_error')\n",
    "    mean_mae = np.mean(-cv_nmae)\n",
    "\n",
    "    print(type(model).__name__)\n",
    "\n",
    "    print(f\"Mean MSE: {mean_mse:.4f}\")\n",
    "    print(f\"Mean MAE: {mean_mae:.4f}\")\n",
    "    print(f\"Mean R^2: {mean_r2:.4f}\\n\")\n"
   ]
  },
  {
   "cell_type": "markdown",
   "metadata": {},
   "source": [
    "Based on the cross-validation score of each model, GradientBoostingRegressor performed the best."
   ]
  },
  {
   "cell_type": "code",
   "execution_count": 302,
   "metadata": {},
   "outputs": [
    {
     "name": "stdout",
     "output_type": "stream",
     "text": [
      "GradientBoostingRegressor\n",
      "Mean MSE: 90575408109.2008\n",
      "Mean MAE: 177606.6829\n",
      "Mean R^2: 0.3983\n"
     ]
    }
   ],
   "source": [
    "best_model = gradientBoost\n",
    "\n",
    "y_pred = best_model.predict(X_test)\n",
    "\n",
    "cv_r2 = cross_val_score(best_model, X_train, y_train, cv=5, scoring='r2')\n",
    "mean_r2 = np.mean(cv_r2)\n",
    "\n",
    "cv_nmse = cross_val_score(best_model, X_train, y_train, cv=5, scoring='neg_mean_squared_error')\n",
    "mean_mse = np.mean(-cv_nmse)\n",
    "\n",
    "cv_nmae = cross_val_score(best_model, X_train, y_train, cv=5, scoring='neg_mean_absolute_error')\n",
    "mean_mae = np.mean(-cv_nmae)\n",
    "\n",
    "print(type(best_model).__name__)\n",
    "\n",
    "print(f\"Mean MSE: {mean_mse:.4f}\")\n",
    "print(f\"Mean MAE: {mean_mae:.4f}\")\n",
    "print(f\"Mean R^2: {mean_r2:.4f}\")"
   ]
  },
  {
   "cell_type": "markdown",
   "metadata": {},
   "source": [
    "# Pattern Evaluation"
   ]
  },
  {
   "cell_type": "code",
   "execution_count": 303,
   "metadata": {},
   "outputs": [
    {
     "data": {
      "text/plain": [
       "8.268579177789336"
      ]
     },
     "execution_count": 303,
     "metadata": {},
     "output_type": "execute_result"
    }
   ],
   "source": [
    "error_pct = mean_mae/y_test.median() * 100\n",
    "\n",
    "error_pct"
   ]
  },
  {
   "cell_type": "code",
   "execution_count": 304,
   "metadata": {},
   "outputs": [
    {
     "data": {
      "text/plain": [
       "array([0.57653037, 0.02895581, 0.21425475, 0.30695196, 0.86466983])"
      ]
     },
     "execution_count": 304,
     "metadata": {},
     "output_type": "execute_result"
    }
   ],
   "source": [
    "cv_r2"
   ]
  },
  {
   "cell_type": "markdown",
   "metadata": {},
   "source": [
    "Regression models are able to predict the traffic in CC zone during Charged Hours to a moderate degree of accuracy, which signifies the correlation with public transport data.\n",
    "\n",
    "Based on cross validation result:\n",
    "- MSE is high due to squaring the error of outliers.\n",
    "- MAE is approximately 8.269% of the median of the test set, which is decent in the context of road traffic of a month.\n",
    "- R^2 is unstable in cross-validation suggests that the model does not generalize well, which may be due to overfitting and low data quality. \n",
    "\n",
    "Future measures to improve the performance of models include gathering data with higher granularity by measuring data in weeks. Additionally, handling outliers by tranformation or removal may also improve the model."
   ]
  },
  {
   "cell_type": "markdown",
   "metadata": {},
   "source": [
    "# Knowledge Presentation"
   ]
  },
  {
   "cell_type": "markdown",
   "metadata": {},
   "source": [
    "Actual vs. Predicted Values Graph:\n",
    "\n",
    "This graph compares the actual observed values (response variable) with the predicted values generated by the regression model.\n",
    "\n",
    "Ideally, the points should form a diagonal line, indicating that the predicted values closely match the actual values. Deviations from the diagonal suggest discrepancies between the model predictions and the true outcomes.\n",
    "\n",
    "In this case, the trend of the plotted values are not exactly aligned with the diagonal. An outlier can be observed "
   ]
  },
  {
   "cell_type": "code",
   "execution_count": 305,
   "metadata": {},
   "outputs": [
    {
     "data": {
      "image/png": "[encoded data removed]",
      "text/plain": [
       "<Figure size 800x600 with 1 Axes>"
      ]
     },
     "metadata": {},
     "output_type": "display_data"
    }
   ],
   "source": [
    "import seaborn as sns\n",
    "import matplotlib.pyplot as plt\n",
    "\n",
    "sns.set_style('whitegrid')\n",
    "\n",
    "y_pred = best_model.predict(X_test)\n",
    "\n",
    "plt.figure(figsize=(8, 6))\n",
    "sns.regplot(x=y_test, y=y_pred, line_kws={'color': 'orange', 'alpha': 0.5})\n",
    "\n",
    "# Add a dashed diagonal line\n",
    "plt.plot([y_test.min(), y_test.max()], [y_test.min(), y_test.max()], '--', color='red')\n",
    "\n",
    "plt.xlabel('Actual Values')\n",
    "plt.ylabel('Predicted Values')\n",
    "plt.title('Actual vs. Predicted Values')\n",
    "plt.show()\n"
   ]
  },
  {
   "cell_type": "markdown",
   "metadata": {},
   "source": [
    "Histogram of Residuals:\n",
    "\n",
    "The histogram of residuals provides a visual representation of the distribution of the differences between the actual and predicted values, known as residuals.\n",
    "\n",
    "A normal distribution of residuals is often desirable, suggesting that the model's errors are approximately normally distributed. Skewness or outliers in the histogram may indicate issues with the model assumptions.\n",
    "\n",
    "In this case, there is an outlier with the data, so the distribution is slightly skewed."
   ]
  },
  {
   "cell_type": "code",
   "execution_count": 306,
   "metadata": {},
   "outputs": [
    {
     "data": {
      "image/png": "[encoded data removed]",
      "text/plain": [
       "<Figure size 800x600 with 1 Axes>"
      ]
     },
     "metadata": {},
     "output_type": "display_data"
    }
   ],
   "source": [
    "import matplotlib.pyplot as plt\n",
    "import seaborn as sns\n",
    "\n",
    "sns.set_style('whitegrid')\n",
    "\n",
    "y_pred = best_model.predict(X_test)\n",
    "residuals = y_test - y_pred\n",
    "\n",
    "plt.figure(figsize=(8, 6))\n",
    "sns.histplot(residuals, kde=True, bins=30)\n",
    "plt.xlabel('Residuals')\n",
    "plt.ylabel('Frequency')\n",
    "plt.title('Histogram of Residuals')\n",
    "plt.show()\n"
   ]
  },
  {
   "cell_type": "markdown",
   "metadata": {},
   "source": [
    "Residual vs. Fitted Values Graph:\n",
    "\n",
    "This graph assesses the relationship between the residuals (the differences between actual and predicted values) and the fitted values (the predicted values themselves).\n",
    "\n",
    "The plot helps identify patterns or trends in the residuals. A horizontal band of points around zero suggests homoscedasticity (constant variance of residuals). Patterns or trends may indicate issues such as heteroscedasticity (varying variance) or nonlinearity in the model.\n",
    "\n",
    "In this case, the residuals show no patterns or trends."
   ]
  },
  {
   "cell_type": "code",
   "execution_count": 307,
   "metadata": {},
   "outputs": [
    {
     "data": {
      "image/png": "[encoded data removed]",
      "text/plain": [
       "<Figure size 800x600 with 1 Axes>"
      ]
     },
     "metadata": {},
     "output_type": "display_data"
    }
   ],
   "source": [
    "import seaborn as sns\n",
    "import matplotlib.pyplot as plt\n",
    "\n",
    "sns.set_style('whitegrid')\n",
    "\n",
    "y_pred = best_model.predict(X_test)\n",
    "residuals = y_test - y_pred\n",
    "\n",
    "plt.figure(figsize=(8, 6))\n",
    "sns.residplot(x=y_pred, y=residuals, scatter_kws={'alpha': 0.5}, line_kws={'color': 'orange'}, lowess=True)\n",
    "plt.axhline(y=0, color='red', linestyle='--')\n",
    "plt.xlabel('Fitted Values (Predicted)')\n",
    "plt.ylabel('Residuals')\n",
    "plt.title('Residuals vs. Fitted Values Plot')\n",
    "plt.show()\n",
    "\n",
    "\n"
   ]
  },
  {
   "cell_type": "markdown",
   "metadata": {},
   "source": [
    "# Conclusion\n",
    "\n",
    "In short, Public Transport does not seem to directly affect The Number of Vehicles in CC zone during charging hours. \n",
    "\n",
    "Based on research, the 3 main types of transport in London in order of usage is Active Transport, Private Transport, and Public Transport, based on a survey by 2022 National Travel Survey (GOV.UK, 2022).\n",
    "\n",
    "Public Transport is still recovering from the pandemic, therefore showed a slow steady rise, and there are several factors which contributes to this (Transport for London, 2022):\n",
    "- Hybrid Working\n",
    "- Active Travel trend\n",
    "- Changes to Congestion Charge Scheme\n",
    "\n",
    "Additionally, authorities showed positive effort in improving public transport in London, as a new transport infrastructure, the Elizabeth line was opened successfully in 24 May 2022 (Transport for London, 2022)\n",
    "\n",
    "However, trend in private transport bounced back to pre-pandemic values in a short timespan, meaning London residents are still very reliant on car.\n",
    "\n",
    "In conclusion, it can be concluded that the correlation between public transport and private transport in London is not very high."
   ]
  },
  {
   "cell_type": "markdown",
   "metadata": {},
   "source": [
    "# References\n",
    "- GOV.UK. (2022). National Travel Survey 2022: Mode share, journey lengths and trends in public transport use. [online] Available at: https://www.gov.uk/government/statistics/national-travel-survey-2022/national-travel-survey-2022-mode-share-journey-lengths-and-trends-in-public-transport-use#background-information [Accessed 30 Nov. 2023].\n",
    "\n",
    "- Transport for London (2022). Travel in London Report 15. [online] Available at: https://content.tfl.gov.uk/travel-in-london-report-15.pdf.\n",
    "\n",
    "‌\n",
    "\n",
    "‌"
   ]
  }
 ],
 "metadata": {
  "kernelspec": {
   "display_name": "Python 3",
   "language": "python",
   "name": "python3"
  },
  "language_info": {
   "codemirror_mode": {
    "name": "ipython",
    "version": 3
   },
   "file_extension": ".py",
   "mimetype": "text/x-python",
   "name": "python",
   "nbconvert_exporter": "python",
   "pygments_lexer": "ipython3",
   "version": "3.10.12"
  }
 },
 "nbformat": 4,
 "nbformat_minor": 2
}
